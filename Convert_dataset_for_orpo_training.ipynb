{
  "nbformat": 4,
  "nbformat_minor": 0,
  "metadata": {
    "colab": {
      "provenance": []
    },
    "kernelspec": {
      "name": "python3",
      "display_name": "Python 3"
    },
    "language_info": {
      "name": "python"
    }
  },
  "cells": [
    {
      "cell_type": "code",
      "source": [
        "!pip install datasets\n",
        "from datasets import load_dataset\n",
        "import pandas as pd\n",
        "from datasets import Dataset\n",
        "import json\n",
        "\n",
        "# Load the H4rmony DPO dataset\n",
        "dataset_h4rmony = load_dataset(\"neovalle/h4rmony_dpo_multilingual\")\n",
        "\n",
        "# Transform 'chosen' and 'rejected' text into structured format with two dictionaries,\n",
        "def transform_entry(entry):\n",
        "\n",
        "    chosen = [\n",
        "        {\"content\": entry['prompt'], \"role\": \"user\"},\n",
        "        {\"content\": entry['chosen'], \"role\": \"assistant\"}\n",
        "    ]\n",
        "    rejected = [\n",
        "        {\"content\": entry['prompt'], \"role\": \"user\"},\n",
        "        {\"content\": entry['rejected'], \"role\": \"assistant\"}\n",
        "    ]\n",
        "\n",
        "\n",
        "    # Construct the output dictionary\n",
        "    return {\n",
        "        \"source\": \"h4rmony\",\n",
        "        \"chosen\": chosen,\n",
        "        \"rejected\": rejected,\n",
        "        \"prompt\": entry['prompt'],\n",
        "        \"question\": entry['prompt'],\n",
        "        \"lang\": entry['lang']\n",
        "    }\n",
        "\n",
        "# Apply the transformation function to each entry in the dataset\n",
        "transformed_data = [transform_entry(entry) for entry in dataset_h4rmony['train']]\n",
        "\n",
        "# Create a pandas DataFrame from the transformed data\n",
        "df_transformed = pd.DataFrame(transformed_data)\n",
        "\n",
        "# Reorder columns explicitly to keep it the same\n",
        "column_order = [\"source\", \"chosen\", \"rejected\", \"prompt\", \"question\", \"lang\"]\n",
        "df_transformed = df_transformed[column_order]\n",
        "\n",
        "# Convert the DataFrame back to Dataset\n",
        "hf_transformed_dataset = Dataset.from_pandas(df_transformed)\n",
        "\n",
        "# save dataset locally in JSON format\n",
        "hf_transformed_dataset.to_json(\"transformed_h4rmony_to_orpo.json\", orient=\"records\", lines=True)\n"
      ],
      "metadata": {
        "id": "74VcF0Yl_1OR"
      },
      "execution_count": null,
      "outputs": []
    }
  ]
}