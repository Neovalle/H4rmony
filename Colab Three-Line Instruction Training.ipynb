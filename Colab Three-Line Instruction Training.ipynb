{
 "cells": [
  {
   "cell_type": "markdown",
   "metadata": {
    "colab": {
     "base_uri": "https://localhost:8080/",
     "height": 1000
    },
    "id": "54EMlil9VyyF",
    "outputId": "051f67d7-aaef-4784-cbc4-91eb03d7c17d"
   },
   "source": [
    "### This notebook is meant to run as a colab notebook in Lamini - www.lamini.ai\n",
    "#### It needs a Lamini API Key and the HarmoniousAlpaca.jsonl file \n",
    "#### Its output is a fine tuned model in https://app.lamini.ai/train"
   ]
  },
  {
   "cell_type": "code",
   "execution_count": null,
   "metadata": {
    "colab": {
     "base_uri": "https://localhost:8080/",
     "height": 1000
    },
    "id": "54EMlil9VyyF",
    "outputId": "051f67d7-aaef-4784-cbc4-91eb03d7c17d"
   },
   "outputs": [],
   "source": [
    "!pip install --upgrade --force-reinstall --ignore-installed lamini \n",
    "# click on RESTART RUNTIME button after installation"
   ]
  },
  {
   "cell_type": "code",
   "execution_count": null,
   "metadata": {
    "id": "2MY_rkmFPDFj"
   },
   "outputs": [],
   "source": [
    "# Make sure to replace [YOUR_KEY_HERE] with your actual API key before running this cell\n",
    "\n",
    "from llama import BasicModelRunner, LLMEngine\n",
    "\n",
    "llm = LLMEngine(\n",
    "    id=\"example_llm\",\n",
    "    config={\"production.key\": [YOUR_KEY_HERE]}\n",
    "    )"
   ]
  },
  {
   "cell_type": "code",
   "execution_count": null,
   "metadata": {
    "colab": {
     "base_uri": "https://localhost:8080/",
     "height": 231
    },
    "id": "SG4bOD5JXp5E",
    "outputId": "ce5b6efd-0bd1-432c-ffdb-4b42f19793b9"
   },
   "outputs": [],
   "source": [
    "# These 3 lines will fine tune the base model with the default parameters\n",
    "model = BasicModelRunner(\"meta-llama/Llama-2-7b-chat-hf\")\n",
    "model.load_data_from_jsonlines('H4rmoniousAlpaca.jsonl')\n",
    "model.train(is_public=True)"
   ]
  }
 ],
 "metadata": {
  "accelerator": "GPU",
  "colab": {
   "gpuType": "T4",
   "provenance": []
  },
  "kernelspec": {
   "display_name": "Python 3 (ipykernel)",
   "language": "python",
   "name": "python3"
  },
  "language_info": {
   "codemirror_mode": {
    "name": "ipython",
    "version": 3
   },
   "file_extension": ".py",
   "mimetype": "text/x-python",
   "name": "python",
   "nbconvert_exporter": "python",
   "pygments_lexer": "ipython3",
   "version": "3.9.13"
  }
 },
 "nbformat": 4,
 "nbformat_minor": 4
}
